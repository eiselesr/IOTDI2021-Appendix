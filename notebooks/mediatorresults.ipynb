{
 "cells": [
  {
   "cell_type": "code",
   "execution_count": 1,
   "metadata": {},
   "outputs": [],
   "source": [
    "import presto\n",
    "import pandas as pd\n",
    "import numpy as np\n",
    "import pulsar\n",
    "import os\n",
    "import plotly.express as px\n",
    "import plotly.graph_objects as go\n",
    "import json\n",
    "import csv"
   ]
  },
  {
   "cell_type": "code",
   "execution_count": 2,
   "metadata": {},
   "outputs": [],
   "source": [
    "os.chdir('../')\n",
    "from src.MV2 import cfg, schema"
   ]
  },
  {
   "cell_type": "code",
   "execution_count": 3,
   "metadata": {},
   "outputs": [],
   "source": [
    "pulsar_url=\"pulsar://localhost:6650\"\n",
    "client = pulsar.Client(pulsar_url)"
   ]
  },
  {
   "cell_type": "code",
   "execution_count": 4,
   "metadata": {},
   "outputs": [],
   "source": [
    "def presto_query(query, user='test', catalog='pulsar', schema='public/default', host='localhost', port=8081):\n",
    "    conn = presto.dbapi.connect(\n",
    "        host=host,\n",
    "        port=port,\n",
    "        user=user,\n",
    "        catalog=catalog,\n",
    "        schema=schema)\n",
    "    cur = conn.cursor()\n",
    "    cur.execute(query)\n",
    "    data = cur.fetchall()\n",
    "    columns = cur.description\n",
    "    df = pd.DataFrame(data)\n",
    "    df.columns = [x[0] for x in columns]\n",
    "    return df.replace('', np.nan)\n",
    "\n",
    "def get_all_data(topic, schema):\n",
    "    data = []\n",
    "\n",
    "    reader = client.create_reader(topic, start_message_id=pulsar.MessageId.earliest)\n",
    "\n",
    "    while reader.has_message_available():\n",
    "        msg = reader.read_next()\n",
    "        data.append(json.loads(msg.data()))\n",
    "        #print(\"Received message '{}' id='{}'\".format(msg.data(), msg.message_id()))\n",
    "        # No acknowledgment\n",
    "    return data"
   ]
  },
  {
   "cell_type": "code",
   "execution_count": 5,
   "metadata": {},
   "outputs": [],
   "source": [
    "topic = f\"persistent://public/default/allocation_topic\"\n",
    "data = get_all_data(topic, schema.AllocationSchema)\n",
    "dfa = pd.DataFrame(data)\n",
    "dfa['supplier_times'] = dfa.apply(lambda row: -row[\"supplieroffertimestamps\"][0] + row[\"timestamp\"], axis=1)\n",
    "dfa['customer_times'] = dfa.apply(lambda row: -row[\"customeroffertimestamp\"] + row[\"timestamp\"], axis=1)\n",
    "dfa['customer_alo_to_start'] = dfa.apply(lambda row: -row[\"timestamp\"] + row[\"start\"], axis=1)\n",
    "#supplier_times = dfa.loc[df['supplier_times'] < 3, 'supplier_times']\n",
    "#customer_times = dfa.loc[df['customer_times'] < 3, 'customer_times']"
   ]
  },
  {
   "cell_type": "code",
   "execution_count": 6,
   "metadata": {},
   "outputs": [
    {
     "data": {
      "text/html": [
       "<div>\n",
       "<style scoped>\n",
       "    .dataframe tbody tr th:only-of-type {\n",
       "        vertical-align: middle;\n",
       "    }\n",
       "\n",
       "    .dataframe tbody tr th {\n",
       "        vertical-align: top;\n",
       "    }\n",
       "\n",
       "    .dataframe thead th {\n",
       "        text-align: right;\n",
       "    }\n",
       "</style>\n",
       "<table border=\"1\" class=\"dataframe\">\n",
       "  <thead>\n",
       "    <tr style=\"text-align: right;\">\n",
       "      <th></th>\n",
       "      <th>jobid</th>\n",
       "      <th>allocationid</th>\n",
       "      <th>customer</th>\n",
       "      <th>suppliers</th>\n",
       "      <th>start</th>\n",
       "      <th>end</th>\n",
       "      <th>service_name</th>\n",
       "      <th>price</th>\n",
       "      <th>replicas</th>\n",
       "      <th>timestamp</th>\n",
       "      <th>customerofferid</th>\n",
       "      <th>supplierofferids</th>\n",
       "      <th>customeroffertimestamp</th>\n",
       "      <th>supplieroffertimestamps</th>\n",
       "      <th>supplierbehaviors</th>\n",
       "      <th>supplier_times</th>\n",
       "      <th>customer_times</th>\n",
       "      <th>customer_alo_to_start</th>\n",
       "    </tr>\n",
       "  </thead>\n",
       "  <tbody>\n",
       "    <tr>\n",
       "      <th>0</th>\n",
       "      <td>a6ae0163-5356-4f76-b1d4-f3928140bb82</td>\n",
       "      <td>f3ec9c44-da5d-4084-9802-9fef9525667d</td>\n",
       "      <td>c-1-1</td>\n",
       "      <td>[s-1-5]</td>\n",
       "      <td>1.604342e+09</td>\n",
       "      <td>1.604342e+09</td>\n",
       "      <td>rand_nums</td>\n",
       "      <td>0.000001</td>\n",
       "      <td>1</td>\n",
       "      <td>1.604342e+09</td>\n",
       "      <td>1817eec9-d0b6-4d15-93d6-c62892aea608</td>\n",
       "      <td>[bad9d569-7de1-4f7f-863a-64d658b67832]</td>\n",
       "      <td>1.604342e+09</td>\n",
       "      <td>[1604341576.1064682]</td>\n",
       "      <td>[correct]</td>\n",
       "      <td>0.870915</td>\n",
       "      <td>0.037940</td>\n",
       "      <td>118.480733</td>\n",
       "    </tr>\n",
       "    <tr>\n",
       "      <th>1</th>\n",
       "      <td>95589eb7-6fe6-42ec-aef1-6a4d209b65c7</td>\n",
       "      <td>7ea6654d-8049-4d20-90e9-35fd298d8f0a</td>\n",
       "      <td>c-1-0</td>\n",
       "      <td>[s-1-3]</td>\n",
       "      <td>1.604342e+09</td>\n",
       "      <td>1.604342e+09</td>\n",
       "      <td>rand_nums</td>\n",
       "      <td>0.000001</td>\n",
       "      <td>1</td>\n",
       "      <td>1.604342e+09</td>\n",
       "      <td>9d614130-4aae-484c-ada3-8f011df96bc6</td>\n",
       "      <td>[9727e1f9-5e4a-4e54-9b7f-b4202566c84b]</td>\n",
       "      <td>1.604342e+09</td>\n",
       "      <td>[1604341576.114783]</td>\n",
       "      <td>[correct]</td>\n",
       "      <td>0.953643</td>\n",
       "      <td>0.090401</td>\n",
       "      <td>118.389690</td>\n",
       "    </tr>\n",
       "    <tr>\n",
       "      <th>2</th>\n",
       "      <td>03d09336-f8bf-4b9a-989f-0a6f627c0693</td>\n",
       "      <td>c6e4331b-ea5a-406b-85f9-295f4692b1d0</td>\n",
       "      <td>c-1-4</td>\n",
       "      <td>[s-1-2]</td>\n",
       "      <td>1.604342e+09</td>\n",
       "      <td>1.604342e+09</td>\n",
       "      <td>rand_nums</td>\n",
       "      <td>0.000001</td>\n",
       "      <td>1</td>\n",
       "      <td>1.604342e+09</td>\n",
       "      <td>ae7eb0ca-3374-4efd-99f9-0d9d0fd5c0f9</td>\n",
       "      <td>[0ef584b8-8ada-41e0-91e3-6a5ab7550f25]</td>\n",
       "      <td>1.604342e+09</td>\n",
       "      <td>[1604341576.156399]</td>\n",
       "      <td>[correct]</td>\n",
       "      <td>1.014760</td>\n",
       "      <td>0.183345</td>\n",
       "      <td>118.286957</td>\n",
       "    </tr>\n",
       "    <tr>\n",
       "      <th>3</th>\n",
       "      <td>fc8fd5c9-507c-41f7-aeef-927b82996c7d</td>\n",
       "      <td>73d10798-9332-49d2-91df-acd228fde0c1</td>\n",
       "      <td>c-1-3</td>\n",
       "      <td>[s-1-6]</td>\n",
       "      <td>1.604342e+09</td>\n",
       "      <td>1.604342e+09</td>\n",
       "      <td>rand_nums</td>\n",
       "      <td>0.000001</td>\n",
       "      <td>1</td>\n",
       "      <td>1.604342e+09</td>\n",
       "      <td>1c4377ad-ad54-4e4b-8899-a5e780bf4fcc</td>\n",
       "      <td>[845e0d76-2af7-4098-9cef-f6da119be2a5]</td>\n",
       "      <td>1.604342e+09</td>\n",
       "      <td>[1604341576.1816058]</td>\n",
       "      <td>[correct]</td>\n",
       "      <td>1.132145</td>\n",
       "      <td>0.324977</td>\n",
       "      <td>118.144365</td>\n",
       "    </tr>\n",
       "    <tr>\n",
       "      <th>4</th>\n",
       "      <td>f4d64ca8-16ed-43b4-bc3c-ffadc6660301</td>\n",
       "      <td>f3895fb4-7e85-4b49-8626-fc6a374c5783</td>\n",
       "      <td>c-1-2</td>\n",
       "      <td>[s-1-13]</td>\n",
       "      <td>1.604342e+09</td>\n",
       "      <td>1.604342e+09</td>\n",
       "      <td>rand_nums</td>\n",
       "      <td>0.000001</td>\n",
       "      <td>1</td>\n",
       "      <td>1.604342e+09</td>\n",
       "      <td>53580240-8322-45e0-ad2e-283c2f708185</td>\n",
       "      <td>[c21997d0-a9fe-45b3-8d7d-5069c444bfba]</td>\n",
       "      <td>1.604342e+09</td>\n",
       "      <td>[1604341576.196383]</td>\n",
       "      <td>[correct]</td>\n",
       "      <td>1.218592</td>\n",
       "      <td>0.416275</td>\n",
       "      <td>118.043141</td>\n",
       "    </tr>\n",
       "  </tbody>\n",
       "</table>\n",
       "</div>"
      ],
      "text/plain": [
       "                                  jobid                          allocationid  \\\n",
       "0  a6ae0163-5356-4f76-b1d4-f3928140bb82  f3ec9c44-da5d-4084-9802-9fef9525667d   \n",
       "1  95589eb7-6fe6-42ec-aef1-6a4d209b65c7  7ea6654d-8049-4d20-90e9-35fd298d8f0a   \n",
       "2  03d09336-f8bf-4b9a-989f-0a6f627c0693  c6e4331b-ea5a-406b-85f9-295f4692b1d0   \n",
       "3  fc8fd5c9-507c-41f7-aeef-927b82996c7d  73d10798-9332-49d2-91df-acd228fde0c1   \n",
       "4  f4d64ca8-16ed-43b4-bc3c-ffadc6660301  f3895fb4-7e85-4b49-8626-fc6a374c5783   \n",
       "\n",
       "  customer suppliers         start           end service_name     price  \\\n",
       "0    c-1-1   [s-1-5]  1.604342e+09  1.604342e+09    rand_nums  0.000001   \n",
       "1    c-1-0   [s-1-3]  1.604342e+09  1.604342e+09    rand_nums  0.000001   \n",
       "2    c-1-4   [s-1-2]  1.604342e+09  1.604342e+09    rand_nums  0.000001   \n",
       "3    c-1-3   [s-1-6]  1.604342e+09  1.604342e+09    rand_nums  0.000001   \n",
       "4    c-1-2  [s-1-13]  1.604342e+09  1.604342e+09    rand_nums  0.000001   \n",
       "\n",
       "   replicas     timestamp                       customerofferid  \\\n",
       "0         1  1.604342e+09  1817eec9-d0b6-4d15-93d6-c62892aea608   \n",
       "1         1  1.604342e+09  9d614130-4aae-484c-ada3-8f011df96bc6   \n",
       "2         1  1.604342e+09  ae7eb0ca-3374-4efd-99f9-0d9d0fd5c0f9   \n",
       "3         1  1.604342e+09  1c4377ad-ad54-4e4b-8899-a5e780bf4fcc   \n",
       "4         1  1.604342e+09  53580240-8322-45e0-ad2e-283c2f708185   \n",
       "\n",
       "                         supplierofferids  customeroffertimestamp  \\\n",
       "0  [bad9d569-7de1-4f7f-863a-64d658b67832]            1.604342e+09   \n",
       "1  [9727e1f9-5e4a-4e54-9b7f-b4202566c84b]            1.604342e+09   \n",
       "2  [0ef584b8-8ada-41e0-91e3-6a5ab7550f25]            1.604342e+09   \n",
       "3  [845e0d76-2af7-4098-9cef-f6da119be2a5]            1.604342e+09   \n",
       "4  [c21997d0-a9fe-45b3-8d7d-5069c444bfba]            1.604342e+09   \n",
       "\n",
       "  supplieroffertimestamps supplierbehaviors  supplier_times  customer_times  \\\n",
       "0    [1604341576.1064682]         [correct]        0.870915        0.037940   \n",
       "1     [1604341576.114783]         [correct]        0.953643        0.090401   \n",
       "2     [1604341576.156399]         [correct]        1.014760        0.183345   \n",
       "3    [1604341576.1816058]         [correct]        1.132145        0.324977   \n",
       "4     [1604341576.196383]         [correct]        1.218592        0.416275   \n",
       "\n",
       "   customer_alo_to_start  \n",
       "0             118.480733  \n",
       "1             118.389690  \n",
       "2             118.286957  \n",
       "3             118.144365  \n",
       "4             118.043141  "
      ]
     },
     "execution_count": 6,
     "metadata": {},
     "output_type": "execute_result"
    }
   ],
   "source": [
    "dfa.head()"
   ]
  },
  {
   "cell_type": "code",
   "execution_count": 7,
   "metadata": {},
   "outputs": [],
   "source": [
    "dfs = []\n",
    "for customer in dfa['customer'].unique().tolist():\n",
    "    #df = presto_query(\"SELECT * FROM output\", schema=f\"{customer}/rand_nums\")\n",
    "    topic = f\"persistent://{customer}/rand_nums/output\"\n",
    "    data = get_all_data(topic, schema.OutputDataSchema)\n",
    "    dfs.append(pd.DataFrame(data))\n",
    "    #dfs.append(df)\n",
    "dfo = pd.concat(dfs, axis=0)\n",
    "dfo['output_times'] = dfo.apply(lambda row: float(row['suppliertimestamp']) - float(row['customertimestamp']), axis=1)"
   ]
  },
  {
   "cell_type": "code",
   "execution_count": 8,
   "metadata": {},
   "outputs": [
    {
     "data": {
      "text/html": [
       "<div>\n",
       "<style scoped>\n",
       "    .dataframe tbody tr th:only-of-type {\n",
       "        vertical-align: middle;\n",
       "    }\n",
       "\n",
       "    .dataframe tbody tr th {\n",
       "        vertical-align: top;\n",
       "    }\n",
       "\n",
       "    .dataframe thead th {\n",
       "        text-align: right;\n",
       "    }\n",
       "</style>\n",
       "<table border=\"1\" class=\"dataframe\">\n",
       "  <thead>\n",
       "    <tr style=\"text-align: right;\">\n",
       "      <th></th>\n",
       "      <th>value</th>\n",
       "      <th>customer</th>\n",
       "      <th>service_name</th>\n",
       "      <th>jobid</th>\n",
       "      <th>start</th>\n",
       "      <th>end</th>\n",
       "      <th>supplier</th>\n",
       "      <th>allocationid</th>\n",
       "      <th>customertimestamp</th>\n",
       "      <th>suppliertimestamp</th>\n",
       "      <th>msgnum</th>\n",
       "      <th>output_times</th>\n",
       "    </tr>\n",
       "  </thead>\n",
       "  <tbody>\n",
       "    <tr>\n",
       "      <th>0</th>\n",
       "      <td>3</td>\n",
       "      <td>c-1-1</td>\n",
       "      <td>rand_nums</td>\n",
       "      <td>a6ae0163-5356-4f76-b1d4-f3928140bb82</td>\n",
       "      <td>1.604342e+09</td>\n",
       "      <td>1.604342e+09</td>\n",
       "      <td>s-1-5</td>\n",
       "      <td>f3ec9c44-da5d-4084-9802-9fef9525667d</td>\n",
       "      <td>1.604342e+09</td>\n",
       "      <td>1.604342e+09</td>\n",
       "      <td>0</td>\n",
       "      <td>0.037809</td>\n",
       "    </tr>\n",
       "    <tr>\n",
       "      <th>1</th>\n",
       "      <td>1</td>\n",
       "      <td>c-1-1</td>\n",
       "      <td>rand_nums</td>\n",
       "      <td>a6ae0163-5356-4f76-b1d4-f3928140bb82</td>\n",
       "      <td>1.604342e+09</td>\n",
       "      <td>1.604342e+09</td>\n",
       "      <td>s-1-5</td>\n",
       "      <td>f3ec9c44-da5d-4084-9802-9fef9525667d</td>\n",
       "      <td>1.604342e+09</td>\n",
       "      <td>1.604342e+09</td>\n",
       "      <td>1</td>\n",
       "      <td>0.026313</td>\n",
       "    </tr>\n",
       "    <tr>\n",
       "      <th>2</th>\n",
       "      <td>3</td>\n",
       "      <td>c-1-1</td>\n",
       "      <td>rand_nums</td>\n",
       "      <td>a6ae0163-5356-4f76-b1d4-f3928140bb82</td>\n",
       "      <td>1.604342e+09</td>\n",
       "      <td>1.604342e+09</td>\n",
       "      <td>s-1-5</td>\n",
       "      <td>f3ec9c44-da5d-4084-9802-9fef9525667d</td>\n",
       "      <td>1.604342e+09</td>\n",
       "      <td>1.604342e+09</td>\n",
       "      <td>2</td>\n",
       "      <td>0.020341</td>\n",
       "    </tr>\n",
       "    <tr>\n",
       "      <th>3</th>\n",
       "      <td>3</td>\n",
       "      <td>c-1-1</td>\n",
       "      <td>rand_nums</td>\n",
       "      <td>a6ae0163-5356-4f76-b1d4-f3928140bb82</td>\n",
       "      <td>1.604342e+09</td>\n",
       "      <td>1.604342e+09</td>\n",
       "      <td>s-1-5</td>\n",
       "      <td>f3ec9c44-da5d-4084-9802-9fef9525667d</td>\n",
       "      <td>1.604342e+09</td>\n",
       "      <td>1.604342e+09</td>\n",
       "      <td>3</td>\n",
       "      <td>0.021506</td>\n",
       "    </tr>\n",
       "    <tr>\n",
       "      <th>4</th>\n",
       "      <td>4</td>\n",
       "      <td>c-1-1</td>\n",
       "      <td>rand_nums</td>\n",
       "      <td>a6ae0163-5356-4f76-b1d4-f3928140bb82</td>\n",
       "      <td>1.604342e+09</td>\n",
       "      <td>1.604342e+09</td>\n",
       "      <td>s-1-5</td>\n",
       "      <td>f3ec9c44-da5d-4084-9802-9fef9525667d</td>\n",
       "      <td>1.604342e+09</td>\n",
       "      <td>1.604342e+09</td>\n",
       "      <td>4</td>\n",
       "      <td>0.006954</td>\n",
       "    </tr>\n",
       "  </tbody>\n",
       "</table>\n",
       "</div>"
      ],
      "text/plain": [
       "   value customer service_name                                 jobid  \\\n",
       "0      3    c-1-1    rand_nums  a6ae0163-5356-4f76-b1d4-f3928140bb82   \n",
       "1      1    c-1-1    rand_nums  a6ae0163-5356-4f76-b1d4-f3928140bb82   \n",
       "2      3    c-1-1    rand_nums  a6ae0163-5356-4f76-b1d4-f3928140bb82   \n",
       "3      3    c-1-1    rand_nums  a6ae0163-5356-4f76-b1d4-f3928140bb82   \n",
       "4      4    c-1-1    rand_nums  a6ae0163-5356-4f76-b1d4-f3928140bb82   \n",
       "\n",
       "          start           end supplier                          allocationid  \\\n",
       "0  1.604342e+09  1.604342e+09    s-1-5  f3ec9c44-da5d-4084-9802-9fef9525667d   \n",
       "1  1.604342e+09  1.604342e+09    s-1-5  f3ec9c44-da5d-4084-9802-9fef9525667d   \n",
       "2  1.604342e+09  1.604342e+09    s-1-5  f3ec9c44-da5d-4084-9802-9fef9525667d   \n",
       "3  1.604342e+09  1.604342e+09    s-1-5  f3ec9c44-da5d-4084-9802-9fef9525667d   \n",
       "4  1.604342e+09  1.604342e+09    s-1-5  f3ec9c44-da5d-4084-9802-9fef9525667d   \n",
       "\n",
       "   customertimestamp  suppliertimestamp  msgnum  output_times  \n",
       "0       1.604342e+09       1.604342e+09       0      0.037809  \n",
       "1       1.604342e+09       1.604342e+09       1      0.026313  \n",
       "2       1.604342e+09       1.604342e+09       2      0.020341  \n",
       "3       1.604342e+09       1.604342e+09       3      0.021506  \n",
       "4       1.604342e+09       1.604342e+09       4      0.006954  "
      ]
     },
     "execution_count": 8,
     "metadata": {},
     "output_type": "execute_result"
    }
   ],
   "source": [
    "dfo.head()"
   ]
  },
  {
   "cell_type": "code",
   "execution_count": 16,
   "metadata": {},
   "outputs": [],
   "source": [
    "dfs = []\n",
    "for customer in dfa['customer'].unique().tolist():\n",
    "    #df = presto_query(\"SELECT * FROM output\", schema=f\"{customer}/rand_nums\")\n",
    "    topic = f\"persistent://{customer}/rand_nums/mediation\"\n",
    "    data = get_all_data(topic, schema.MediationSchema)\n",
    "    #print(data)\n",
    "    dfs.append(pd.DataFrame(data))\n",
    "    #dfs.append(df)\n",
    "dfm = pd.concat(dfs, axis=0)\n",
    "dfm['mediation_times'] = dfm.apply(lambda row: float(row['mediationtimestamp']) - float(row['checktimestamp']), axis=1)"
   ]
  },
  {
   "cell_type": "code",
   "execution_count": 17,
   "metadata": {},
   "outputs": [
    {
     "data": {
      "text/html": [
       "<div>\n",
       "<style scoped>\n",
       "    .dataframe tbody tr th:only-of-type {\n",
       "        vertical-align: middle;\n",
       "    }\n",
       "\n",
       "    .dataframe tbody tr th {\n",
       "        vertical-align: top;\n",
       "    }\n",
       "\n",
       "    .dataframe thead th {\n",
       "        text-align: right;\n",
       "    }\n",
       "</style>\n",
       "<table border=\"1\" class=\"dataframe\">\n",
       "  <thead>\n",
       "    <tr style=\"text-align: right;\">\n",
       "      <th></th>\n",
       "      <th>result</th>\n",
       "      <th>customer</th>\n",
       "      <th>supplierspass</th>\n",
       "      <th>suppliersfail</th>\n",
       "      <th>service_name</th>\n",
       "      <th>jobid</th>\n",
       "      <th>allocationid</th>\n",
       "      <th>checktimestamp</th>\n",
       "      <th>mediationtimestamp</th>\n",
       "      <th>mediation_times</th>\n",
       "    </tr>\n",
       "  </thead>\n",
       "  <tbody>\n",
       "    <tr>\n",
       "      <th>0</th>\n",
       "      <td>pass</td>\n",
       "      <td>c-1-1</td>\n",
       "      <td>[none]</td>\n",
       "      <td>[s-1-5]</td>\n",
       "      <td>rand_nums</td>\n",
       "      <td>a6ae0163-5356-4f76-b1d4-f3928140bb82</td>\n",
       "      <td>f3ec9c44-da5d-4084-9802-9fef9525667d</td>\n",
       "      <td>1.604342e+09</td>\n",
       "      <td>1.604342e+09</td>\n",
       "      <td>0.007826</td>\n",
       "    </tr>\n",
       "    <tr>\n",
       "      <th>1</th>\n",
       "      <td>pass</td>\n",
       "      <td>c-1-1</td>\n",
       "      <td>[none]</td>\n",
       "      <td>[s-1-11]</td>\n",
       "      <td>rand_nums</td>\n",
       "      <td>a6ae0163-5356-4f76-b1d4-f3928140bb82</td>\n",
       "      <td>36144c7f-2325-427c-a3d0-c2f194c2cc58</td>\n",
       "      <td>1.604342e+09</td>\n",
       "      <td>1.604342e+09</td>\n",
       "      <td>0.041281</td>\n",
       "    </tr>\n",
       "    <tr>\n",
       "      <th>2</th>\n",
       "      <td>pass</td>\n",
       "      <td>c-1-1</td>\n",
       "      <td>[none]</td>\n",
       "      <td>[s-1-9]</td>\n",
       "      <td>rand_nums</td>\n",
       "      <td>a6ae0163-5356-4f76-b1d4-f3928140bb82</td>\n",
       "      <td>c72ab35f-56b5-4281-9c2c-0d8abd6db4bf</td>\n",
       "      <td>1.604342e+09</td>\n",
       "      <td>1.604342e+09</td>\n",
       "      <td>0.026625</td>\n",
       "    </tr>\n",
       "    <tr>\n",
       "      <th>3</th>\n",
       "      <td>pass</td>\n",
       "      <td>c-1-1</td>\n",
       "      <td>[none]</td>\n",
       "      <td>[s-1-13]</td>\n",
       "      <td>rand_nums</td>\n",
       "      <td>a6ae0163-5356-4f76-b1d4-f3928140bb82</td>\n",
       "      <td>5d573317-d3bb-4d43-9378-c7cdc1f9e214</td>\n",
       "      <td>1.604342e+09</td>\n",
       "      <td>1.604342e+09</td>\n",
       "      <td>0.023583</td>\n",
       "    </tr>\n",
       "    <tr>\n",
       "      <th>4</th>\n",
       "      <td>pass</td>\n",
       "      <td>c-1-1</td>\n",
       "      <td>[none]</td>\n",
       "      <td>[s-1-1]</td>\n",
       "      <td>rand_nums</td>\n",
       "      <td>a6ae0163-5356-4f76-b1d4-f3928140bb82</td>\n",
       "      <td>77e81295-d718-4edd-bc42-a812282ca79d</td>\n",
       "      <td>1.604342e+09</td>\n",
       "      <td>1.604342e+09</td>\n",
       "      <td>0.110044</td>\n",
       "    </tr>\n",
       "  </tbody>\n",
       "</table>\n",
       "</div>"
      ],
      "text/plain": [
       "  result customer supplierspass suppliersfail service_name  \\\n",
       "0   pass    c-1-1        [none]       [s-1-5]    rand_nums   \n",
       "1   pass    c-1-1        [none]      [s-1-11]    rand_nums   \n",
       "2   pass    c-1-1        [none]       [s-1-9]    rand_nums   \n",
       "3   pass    c-1-1        [none]      [s-1-13]    rand_nums   \n",
       "4   pass    c-1-1        [none]       [s-1-1]    rand_nums   \n",
       "\n",
       "                                  jobid                          allocationid  \\\n",
       "0  a6ae0163-5356-4f76-b1d4-f3928140bb82  f3ec9c44-da5d-4084-9802-9fef9525667d   \n",
       "1  a6ae0163-5356-4f76-b1d4-f3928140bb82  36144c7f-2325-427c-a3d0-c2f194c2cc58   \n",
       "2  a6ae0163-5356-4f76-b1d4-f3928140bb82  c72ab35f-56b5-4281-9c2c-0d8abd6db4bf   \n",
       "3  a6ae0163-5356-4f76-b1d4-f3928140bb82  5d573317-d3bb-4d43-9378-c7cdc1f9e214   \n",
       "4  a6ae0163-5356-4f76-b1d4-f3928140bb82  77e81295-d718-4edd-bc42-a812282ca79d   \n",
       "\n",
       "   checktimestamp  mediationtimestamp  mediation_times  \n",
       "0    1.604342e+09        1.604342e+09         0.007826  \n",
       "1    1.604342e+09        1.604342e+09         0.041281  \n",
       "2    1.604342e+09        1.604342e+09         0.026625  \n",
       "3    1.604342e+09        1.604342e+09         0.023583  \n",
       "4    1.604342e+09        1.604342e+09         0.110044  "
      ]
     },
     "execution_count": 17,
     "metadata": {},
     "output_type": "execute_result"
    }
   ],
   "source": [
    "dfm.head()"
   ]
  },
  {
   "cell_type": "code",
   "execution_count": 11,
   "metadata": {},
   "outputs": [],
   "source": [
    "dfs = []\n",
    "for customer in dfa['customer'].unique().tolist():\n",
    "    #df = presto_query(\"SELECT * FROM output\", schema=f\"{customer}/rand_nums\")\n",
    "    topic = f\"persistent://{customer}/rand_nums/check\"\n",
    "    data = get_all_data(topic, schema.CheckSchema)\n",
    "    dfs.append(pd.DataFrame(data))\n",
    "    #dfs.append(df)\n",
    "dfc = pd.concat(dfs, axis=0)"
   ]
  },
  {
   "cell_type": "code",
   "execution_count": 12,
   "metadata": {},
   "outputs": [
    {
     "data": {
      "text/html": [
       "<div>\n",
       "<style scoped>\n",
       "    .dataframe tbody tr th:only-of-type {\n",
       "        vertical-align: middle;\n",
       "    }\n",
       "\n",
       "    .dataframe tbody tr th {\n",
       "        vertical-align: top;\n",
       "    }\n",
       "\n",
       "    .dataframe thead th {\n",
       "        text-align: right;\n",
       "    }\n",
       "</style>\n",
       "<table border=\"1\" class=\"dataframe\">\n",
       "  <thead>\n",
       "    <tr style=\"text-align: right;\">\n",
       "      <th></th>\n",
       "      <th>result</th>\n",
       "      <th>customer</th>\n",
       "      <th>suppliers</th>\n",
       "      <th>supplierbehaviors</th>\n",
       "      <th>service_name</th>\n",
       "      <th>jobid</th>\n",
       "      <th>allocationid</th>\n",
       "      <th>timestamp</th>\n",
       "    </tr>\n",
       "  </thead>\n",
       "  <tbody>\n",
       "    <tr>\n",
       "      <th>6</th>\n",
       "      <td>pass</td>\n",
       "      <td>c-1-2</td>\n",
       "      <td>[s-1-3]</td>\n",
       "      <td>[correct]</td>\n",
       "      <td>rand_nums</td>\n",
       "      <td>f4d64ca8-16ed-43b4-bc3c-ffadc6660301</td>\n",
       "      <td>40fdc0d0-0026-407d-b274-f1305ee44265</td>\n",
       "      <td>1.604342e+09</td>\n",
       "    </tr>\n",
       "    <tr>\n",
       "      <th>7</th>\n",
       "      <td>pass</td>\n",
       "      <td>c-1-2</td>\n",
       "      <td>[s-1-4]</td>\n",
       "      <td>[correct]</td>\n",
       "      <td>rand_nums</td>\n",
       "      <td>f4d64ca8-16ed-43b4-bc3c-ffadc6660301</td>\n",
       "      <td>379e0c92-f09f-4bb1-94fd-5da0ff8e2ed0</td>\n",
       "      <td>1.604342e+09</td>\n",
       "    </tr>\n",
       "    <tr>\n",
       "      <th>8</th>\n",
       "      <td>pass</td>\n",
       "      <td>c-1-2</td>\n",
       "      <td>[s-1-9]</td>\n",
       "      <td>[correct]</td>\n",
       "      <td>rand_nums</td>\n",
       "      <td>f4d64ca8-16ed-43b4-bc3c-ffadc6660301</td>\n",
       "      <td>75568547-557f-47c5-8a1b-1d2b4d963a57</td>\n",
       "      <td>1.604342e+09</td>\n",
       "    </tr>\n",
       "    <tr>\n",
       "      <th>9</th>\n",
       "      <td>pass</td>\n",
       "      <td>c-1-2</td>\n",
       "      <td>[s-1-13]</td>\n",
       "      <td>[correct]</td>\n",
       "      <td>rand_nums</td>\n",
       "      <td>f4d64ca8-16ed-43b4-bc3c-ffadc6660301</td>\n",
       "      <td>58518da5-c5e8-4fee-b809-346663138d14</td>\n",
       "      <td>1.604342e+09</td>\n",
       "    </tr>\n",
       "    <tr>\n",
       "      <th>10</th>\n",
       "      <td>pass</td>\n",
       "      <td>c-1-2</td>\n",
       "      <td>[s-1-1]</td>\n",
       "      <td>[correct]</td>\n",
       "      <td>rand_nums</td>\n",
       "      <td>f4d64ca8-16ed-43b4-bc3c-ffadc6660301</td>\n",
       "      <td>a56b616e-b920-4d88-a32b-7034e12fd860</td>\n",
       "      <td>1.604342e+09</td>\n",
       "    </tr>\n",
       "  </tbody>\n",
       "</table>\n",
       "</div>"
      ],
      "text/plain": [
       "   result customer suppliers supplierbehaviors service_name  \\\n",
       "6    pass    c-1-2   [s-1-3]         [correct]    rand_nums   \n",
       "7    pass    c-1-2   [s-1-4]         [correct]    rand_nums   \n",
       "8    pass    c-1-2   [s-1-9]         [correct]    rand_nums   \n",
       "9    pass    c-1-2  [s-1-13]         [correct]    rand_nums   \n",
       "10   pass    c-1-2   [s-1-1]         [correct]    rand_nums   \n",
       "\n",
       "                                   jobid  \\\n",
       "6   f4d64ca8-16ed-43b4-bc3c-ffadc6660301   \n",
       "7   f4d64ca8-16ed-43b4-bc3c-ffadc6660301   \n",
       "8   f4d64ca8-16ed-43b4-bc3c-ffadc6660301   \n",
       "9   f4d64ca8-16ed-43b4-bc3c-ffadc6660301   \n",
       "10  f4d64ca8-16ed-43b4-bc3c-ffadc6660301   \n",
       "\n",
       "                            allocationid     timestamp  \n",
       "6   40fdc0d0-0026-407d-b274-f1305ee44265  1.604342e+09  \n",
       "7   379e0c92-f09f-4bb1-94fd-5da0ff8e2ed0  1.604342e+09  \n",
       "8   75568547-557f-47c5-8a1b-1d2b4d963a57  1.604342e+09  \n",
       "9   58518da5-c5e8-4fee-b809-346663138d14  1.604342e+09  \n",
       "10  a56b616e-b920-4d88-a32b-7034e12fd860  1.604342e+09  "
      ]
     },
     "execution_count": 12,
     "metadata": {},
     "output_type": "execute_result"
    }
   ],
   "source": [
    "dfc.tail()"
   ]
  },
  {
   "cell_type": "code",
   "execution_count": null,
   "metadata": {},
   "outputs": [],
   "source": []
  },
  {
   "cell_type": "code",
   "execution_count": 21,
   "metadata": {},
   "outputs": [
    {
     "data": {
      "application/vnd.plotly.v1+json": {
       "config": {
        "plotlyServerURL": "https://plot.ly"
       },
       "data": [
        {
         "type": "box",
         "y": [
          0.007826089859008789,
          0.04128098487854004,
          0.02662515640258789,
          0.023582935333251953,
          0.11004424095153809,
          0.030649900436401367,
          0.021294832229614258,
          0.004675865173339844,
          0.021287202835083008,
          0.03238487243652344,
          0.05473899841308594,
          0.01106882095336914,
          0.061179161071777344,
          0.05388903617858887,
          0.018269062042236328,
          0.02217888832092285,
          0.017041921615600586,
          0.029375076293945312,
          0.0050961971282958984,
          0.030029773712158203,
          0.011258840560913086,
          0.04595208168029785,
          0.007425785064697266,
          0.06280708312988281,
          0.022053956985473633,
          0.026196002960205078,
          0.04981207847595215,
          0.0057332515716552734,
          0.1757190227508545,
          0.019073009490966797,
          0.004623889923095703,
          0.04142117500305176,
          0.1212921142578125,
          0.0066339969635009766,
          0.005689144134521484,
          0.005075931549072266,
          0.010428905487060547,
          0.009987115859985352,
          0.004724025726318359,
          0.019628047943115234,
          0.023067712783813477,
          0.061248064041137695,
          0.007580995559692383,
          0.012722015380859375,
          0.0068950653076171875,
          0.044281005859375,
          0.07922530174255371,
          0.01836705207824707,
          0.005215883255004883,
          0.08308792114257812,
          0.04812908172607422,
          0.009069204330444336,
          0.024367809295654297,
          0.07119631767272949,
          0.0658268928527832
         ]
        }
       ],
       "layout": {
        "template": {
         "data": {
          "bar": [
           {
            "error_x": {
             "color": "#2a3f5f"
            },
            "error_y": {
             "color": "#2a3f5f"
            },
            "marker": {
             "line": {
              "color": "#E5ECF6",
              "width": 0.5
             }
            },
            "type": "bar"
           }
          ],
          "barpolar": [
           {
            "marker": {
             "line": {
              "color": "#E5ECF6",
              "width": 0.5
             }
            },
            "type": "barpolar"
           }
          ],
          "carpet": [
           {
            "aaxis": {
             "endlinecolor": "#2a3f5f",
             "gridcolor": "white",
             "linecolor": "white",
             "minorgridcolor": "white",
             "startlinecolor": "#2a3f5f"
            },
            "baxis": {
             "endlinecolor": "#2a3f5f",
             "gridcolor": "white",
             "linecolor": "white",
             "minorgridcolor": "white",
             "startlinecolor": "#2a3f5f"
            },
            "type": "carpet"
           }
          ],
          "choropleth": [
           {
            "colorbar": {
             "outlinewidth": 0,
             "ticks": ""
            },
            "type": "choropleth"
           }
          ],
          "contour": [
           {
            "colorbar": {
             "outlinewidth": 0,
             "ticks": ""
            },
            "colorscale": [
             [
              0,
              "#0d0887"
             ],
             [
              0.1111111111111111,
              "#46039f"
             ],
             [
              0.2222222222222222,
              "#7201a8"
             ],
             [
              0.3333333333333333,
              "#9c179e"
             ],
             [
              0.4444444444444444,
              "#bd3786"
             ],
             [
              0.5555555555555556,
              "#d8576b"
             ],
             [
              0.6666666666666666,
              "#ed7953"
             ],
             [
              0.7777777777777778,
              "#fb9f3a"
             ],
             [
              0.8888888888888888,
              "#fdca26"
             ],
             [
              1,
              "#f0f921"
             ]
            ],
            "type": "contour"
           }
          ],
          "contourcarpet": [
           {
            "colorbar": {
             "outlinewidth": 0,
             "ticks": ""
            },
            "type": "contourcarpet"
           }
          ],
          "heatmap": [
           {
            "colorbar": {
             "outlinewidth": 0,
             "ticks": ""
            },
            "colorscale": [
             [
              0,
              "#0d0887"
             ],
             [
              0.1111111111111111,
              "#46039f"
             ],
             [
              0.2222222222222222,
              "#7201a8"
             ],
             [
              0.3333333333333333,
              "#9c179e"
             ],
             [
              0.4444444444444444,
              "#bd3786"
             ],
             [
              0.5555555555555556,
              "#d8576b"
             ],
             [
              0.6666666666666666,
              "#ed7953"
             ],
             [
              0.7777777777777778,
              "#fb9f3a"
             ],
             [
              0.8888888888888888,
              "#fdca26"
             ],
             [
              1,
              "#f0f921"
             ]
            ],
            "type": "heatmap"
           }
          ],
          "heatmapgl": [
           {
            "colorbar": {
             "outlinewidth": 0,
             "ticks": ""
            },
            "colorscale": [
             [
              0,
              "#0d0887"
             ],
             [
              0.1111111111111111,
              "#46039f"
             ],
             [
              0.2222222222222222,
              "#7201a8"
             ],
             [
              0.3333333333333333,
              "#9c179e"
             ],
             [
              0.4444444444444444,
              "#bd3786"
             ],
             [
              0.5555555555555556,
              "#d8576b"
             ],
             [
              0.6666666666666666,
              "#ed7953"
             ],
             [
              0.7777777777777778,
              "#fb9f3a"
             ],
             [
              0.8888888888888888,
              "#fdca26"
             ],
             [
              1,
              "#f0f921"
             ]
            ],
            "type": "heatmapgl"
           }
          ],
          "histogram": [
           {
            "marker": {
             "colorbar": {
              "outlinewidth": 0,
              "ticks": ""
             }
            },
            "type": "histogram"
           }
          ],
          "histogram2d": [
           {
            "colorbar": {
             "outlinewidth": 0,
             "ticks": ""
            },
            "colorscale": [
             [
              0,
              "#0d0887"
             ],
             [
              0.1111111111111111,
              "#46039f"
             ],
             [
              0.2222222222222222,
              "#7201a8"
             ],
             [
              0.3333333333333333,
              "#9c179e"
             ],
             [
              0.4444444444444444,
              "#bd3786"
             ],
             [
              0.5555555555555556,
              "#d8576b"
             ],
             [
              0.6666666666666666,
              "#ed7953"
             ],
             [
              0.7777777777777778,
              "#fb9f3a"
             ],
             [
              0.8888888888888888,
              "#fdca26"
             ],
             [
              1,
              "#f0f921"
             ]
            ],
            "type": "histogram2d"
           }
          ],
          "histogram2dcontour": [
           {
            "colorbar": {
             "outlinewidth": 0,
             "ticks": ""
            },
            "colorscale": [
             [
              0,
              "#0d0887"
             ],
             [
              0.1111111111111111,
              "#46039f"
             ],
             [
              0.2222222222222222,
              "#7201a8"
             ],
             [
              0.3333333333333333,
              "#9c179e"
             ],
             [
              0.4444444444444444,
              "#bd3786"
             ],
             [
              0.5555555555555556,
              "#d8576b"
             ],
             [
              0.6666666666666666,
              "#ed7953"
             ],
             [
              0.7777777777777778,
              "#fb9f3a"
             ],
             [
              0.8888888888888888,
              "#fdca26"
             ],
             [
              1,
              "#f0f921"
             ]
            ],
            "type": "histogram2dcontour"
           }
          ],
          "mesh3d": [
           {
            "colorbar": {
             "outlinewidth": 0,
             "ticks": ""
            },
            "type": "mesh3d"
           }
          ],
          "parcoords": [
           {
            "line": {
             "colorbar": {
              "outlinewidth": 0,
              "ticks": ""
             }
            },
            "type": "parcoords"
           }
          ],
          "pie": [
           {
            "automargin": true,
            "type": "pie"
           }
          ],
          "scatter": [
           {
            "marker": {
             "colorbar": {
              "outlinewidth": 0,
              "ticks": ""
             }
            },
            "type": "scatter"
           }
          ],
          "scatter3d": [
           {
            "line": {
             "colorbar": {
              "outlinewidth": 0,
              "ticks": ""
             }
            },
            "marker": {
             "colorbar": {
              "outlinewidth": 0,
              "ticks": ""
             }
            },
            "type": "scatter3d"
           }
          ],
          "scattercarpet": [
           {
            "marker": {
             "colorbar": {
              "outlinewidth": 0,
              "ticks": ""
             }
            },
            "type": "scattercarpet"
           }
          ],
          "scattergeo": [
           {
            "marker": {
             "colorbar": {
              "outlinewidth": 0,
              "ticks": ""
             }
            },
            "type": "scattergeo"
           }
          ],
          "scattergl": [
           {
            "marker": {
             "colorbar": {
              "outlinewidth": 0,
              "ticks": ""
             }
            },
            "type": "scattergl"
           }
          ],
          "scattermapbox": [
           {
            "marker": {
             "colorbar": {
              "outlinewidth": 0,
              "ticks": ""
             }
            },
            "type": "scattermapbox"
           }
          ],
          "scatterpolar": [
           {
            "marker": {
             "colorbar": {
              "outlinewidth": 0,
              "ticks": ""
             }
            },
            "type": "scatterpolar"
           }
          ],
          "scatterpolargl": [
           {
            "marker": {
             "colorbar": {
              "outlinewidth": 0,
              "ticks": ""
             }
            },
            "type": "scatterpolargl"
           }
          ],
          "scatterternary": [
           {
            "marker": {
             "colorbar": {
              "outlinewidth": 0,
              "ticks": ""
             }
            },
            "type": "scatterternary"
           }
          ],
          "surface": [
           {
            "colorbar": {
             "outlinewidth": 0,
             "ticks": ""
            },
            "colorscale": [
             [
              0,
              "#0d0887"
             ],
             [
              0.1111111111111111,
              "#46039f"
             ],
             [
              0.2222222222222222,
              "#7201a8"
             ],
             [
              0.3333333333333333,
              "#9c179e"
             ],
             [
              0.4444444444444444,
              "#bd3786"
             ],
             [
              0.5555555555555556,
              "#d8576b"
             ],
             [
              0.6666666666666666,
              "#ed7953"
             ],
             [
              0.7777777777777778,
              "#fb9f3a"
             ],
             [
              0.8888888888888888,
              "#fdca26"
             ],
             [
              1,
              "#f0f921"
             ]
            ],
            "type": "surface"
           }
          ],
          "table": [
           {
            "cells": {
             "fill": {
              "color": "#EBF0F8"
             },
             "line": {
              "color": "white"
             }
            },
            "header": {
             "fill": {
              "color": "#C8D4E3"
             },
             "line": {
              "color": "white"
             }
            },
            "type": "table"
           }
          ]
         },
         "layout": {
          "annotationdefaults": {
           "arrowcolor": "#2a3f5f",
           "arrowhead": 0,
           "arrowwidth": 1
          },
          "coloraxis": {
           "colorbar": {
            "outlinewidth": 0,
            "ticks": ""
           }
          },
          "colorscale": {
           "diverging": [
            [
             0,
             "#8e0152"
            ],
            [
             0.1,
             "#c51b7d"
            ],
            [
             0.2,
             "#de77ae"
            ],
            [
             0.3,
             "#f1b6da"
            ],
            [
             0.4,
             "#fde0ef"
            ],
            [
             0.5,
             "#f7f7f7"
            ],
            [
             0.6,
             "#e6f5d0"
            ],
            [
             0.7,
             "#b8e186"
            ],
            [
             0.8,
             "#7fbc41"
            ],
            [
             0.9,
             "#4d9221"
            ],
            [
             1,
             "#276419"
            ]
           ],
           "sequential": [
            [
             0,
             "#0d0887"
            ],
            [
             0.1111111111111111,
             "#46039f"
            ],
            [
             0.2222222222222222,
             "#7201a8"
            ],
            [
             0.3333333333333333,
             "#9c179e"
            ],
            [
             0.4444444444444444,
             "#bd3786"
            ],
            [
             0.5555555555555556,
             "#d8576b"
            ],
            [
             0.6666666666666666,
             "#ed7953"
            ],
            [
             0.7777777777777778,
             "#fb9f3a"
            ],
            [
             0.8888888888888888,
             "#fdca26"
            ],
            [
             1,
             "#f0f921"
            ]
           ],
           "sequentialminus": [
            [
             0,
             "#0d0887"
            ],
            [
             0.1111111111111111,
             "#46039f"
            ],
            [
             0.2222222222222222,
             "#7201a8"
            ],
            [
             0.3333333333333333,
             "#9c179e"
            ],
            [
             0.4444444444444444,
             "#bd3786"
            ],
            [
             0.5555555555555556,
             "#d8576b"
            ],
            [
             0.6666666666666666,
             "#ed7953"
            ],
            [
             0.7777777777777778,
             "#fb9f3a"
            ],
            [
             0.8888888888888888,
             "#fdca26"
            ],
            [
             1,
             "#f0f921"
            ]
           ]
          },
          "colorway": [
           "#636efa",
           "#EF553B",
           "#00cc96",
           "#ab63fa",
           "#FFA15A",
           "#19d3f3",
           "#FF6692",
           "#B6E880",
           "#FF97FF",
           "#FECB52"
          ],
          "font": {
           "color": "#2a3f5f"
          },
          "geo": {
           "bgcolor": "white",
           "lakecolor": "white",
           "landcolor": "#E5ECF6",
           "showlakes": true,
           "showland": true,
           "subunitcolor": "white"
          },
          "hoverlabel": {
           "align": "left"
          },
          "hovermode": "closest",
          "mapbox": {
           "style": "light"
          },
          "paper_bgcolor": "white",
          "plot_bgcolor": "#E5ECF6",
          "polar": {
           "angularaxis": {
            "gridcolor": "white",
            "linecolor": "white",
            "ticks": ""
           },
           "bgcolor": "#E5ECF6",
           "radialaxis": {
            "gridcolor": "white",
            "linecolor": "white",
            "ticks": ""
           }
          },
          "scene": {
           "xaxis": {
            "backgroundcolor": "#E5ECF6",
            "gridcolor": "white",
            "gridwidth": 2,
            "linecolor": "white",
            "showbackground": true,
            "ticks": "",
            "zerolinecolor": "white"
           },
           "yaxis": {
            "backgroundcolor": "#E5ECF6",
            "gridcolor": "white",
            "gridwidth": 2,
            "linecolor": "white",
            "showbackground": true,
            "ticks": "",
            "zerolinecolor": "white"
           },
           "zaxis": {
            "backgroundcolor": "#E5ECF6",
            "gridcolor": "white",
            "gridwidth": 2,
            "linecolor": "white",
            "showbackground": true,
            "ticks": "",
            "zerolinecolor": "white"
           }
          },
          "shapedefaults": {
           "line": {
            "color": "#2a3f5f"
           }
          },
          "ternary": {
           "aaxis": {
            "gridcolor": "white",
            "linecolor": "white",
            "ticks": ""
           },
           "baxis": {
            "gridcolor": "white",
            "linecolor": "white",
            "ticks": ""
           },
           "bgcolor": "#E5ECF6",
           "caxis": {
            "gridcolor": "white",
            "linecolor": "white",
            "ticks": ""
           }
          },
          "title": {
           "x": 0.05
          },
          "xaxis": {
           "automargin": true,
           "gridcolor": "white",
           "linecolor": "white",
           "ticks": "",
           "title": {
            "standoff": 15
           },
           "zerolinecolor": "white",
           "zerolinewidth": 2
          },
          "yaxis": {
           "automargin": true,
           "gridcolor": "white",
           "linecolor": "white",
           "ticks": "",
           "title": {
            "standoff": 15
           },
           "zerolinecolor": "white",
           "zerolinewidth": 2
          }
         }
        }
       }
      },
      "text/html": [
       "<div>                            <div id=\"5eb7a9b1-c606-460a-b6ed-b038b631312d\" class=\"plotly-graph-div\" style=\"height:525px; width:100%;\"></div>            <script type=\"text/javascript\">                require([\"plotly\"], function(Plotly) {                    window.PLOTLYENV=window.PLOTLYENV || {};                                    if (document.getElementById(\"5eb7a9b1-c606-460a-b6ed-b038b631312d\")) {                    Plotly.newPlot(                        \"5eb7a9b1-c606-460a-b6ed-b038b631312d\",                        [{\"type\": \"box\", \"y\": [0.007826089859008789, 0.04128098487854004, 0.02662515640258789, 0.023582935333251953, 0.11004424095153809, 0.030649900436401367, 0.021294832229614258, 0.004675865173339844, 0.021287202835083008, 0.03238487243652344, 0.05473899841308594, 0.01106882095336914, 0.061179161071777344, 0.05388903617858887, 0.018269062042236328, 0.02217888832092285, 0.017041921615600586, 0.029375076293945312, 0.0050961971282958984, 0.030029773712158203, 0.011258840560913086, 0.04595208168029785, 0.007425785064697266, 0.06280708312988281, 0.022053956985473633, 0.026196002960205078, 0.04981207847595215, 0.0057332515716552734, 0.1757190227508545, 0.019073009490966797, 0.004623889923095703, 0.04142117500305176, 0.1212921142578125, 0.0066339969635009766, 0.005689144134521484, 0.005075931549072266, 0.010428905487060547, 0.009987115859985352, 0.004724025726318359, 0.019628047943115234, 0.023067712783813477, 0.061248064041137695, 0.007580995559692383, 0.012722015380859375, 0.0068950653076171875, 0.044281005859375, 0.07922530174255371, 0.01836705207824707, 0.005215883255004883, 0.08308792114257812, 0.04812908172607422, 0.009069204330444336, 0.024367809295654297, 0.07119631767272949, 0.0658268928527832]}],                        {\"template\": {\"data\": {\"bar\": [{\"error_x\": {\"color\": \"#2a3f5f\"}, \"error_y\": {\"color\": \"#2a3f5f\"}, \"marker\": {\"line\": {\"color\": \"#E5ECF6\", \"width\": 0.5}}, \"type\": \"bar\"}], \"barpolar\": [{\"marker\": {\"line\": {\"color\": \"#E5ECF6\", \"width\": 0.5}}, \"type\": \"barpolar\"}], \"carpet\": [{\"aaxis\": {\"endlinecolor\": \"#2a3f5f\", \"gridcolor\": \"white\", \"linecolor\": \"white\", \"minorgridcolor\": \"white\", \"startlinecolor\": \"#2a3f5f\"}, \"baxis\": {\"endlinecolor\": \"#2a3f5f\", \"gridcolor\": \"white\", \"linecolor\": \"white\", \"minorgridcolor\": \"white\", \"startlinecolor\": \"#2a3f5f\"}, \"type\": \"carpet\"}], \"choropleth\": [{\"colorbar\": {\"outlinewidth\": 0, \"ticks\": \"\"}, \"type\": \"choropleth\"}], \"contour\": [{\"colorbar\": {\"outlinewidth\": 0, \"ticks\": \"\"}, \"colorscale\": [[0.0, \"#0d0887\"], [0.1111111111111111, \"#46039f\"], [0.2222222222222222, \"#7201a8\"], [0.3333333333333333, \"#9c179e\"], [0.4444444444444444, \"#bd3786\"], [0.5555555555555556, \"#d8576b\"], [0.6666666666666666, \"#ed7953\"], [0.7777777777777778, \"#fb9f3a\"], [0.8888888888888888, \"#fdca26\"], [1.0, \"#f0f921\"]], \"type\": \"contour\"}], \"contourcarpet\": [{\"colorbar\": {\"outlinewidth\": 0, \"ticks\": \"\"}, \"type\": \"contourcarpet\"}], \"heatmap\": [{\"colorbar\": {\"outlinewidth\": 0, \"ticks\": \"\"}, \"colorscale\": [[0.0, \"#0d0887\"], [0.1111111111111111, \"#46039f\"], [0.2222222222222222, \"#7201a8\"], [0.3333333333333333, \"#9c179e\"], [0.4444444444444444, \"#bd3786\"], [0.5555555555555556, \"#d8576b\"], [0.6666666666666666, \"#ed7953\"], [0.7777777777777778, \"#fb9f3a\"], [0.8888888888888888, \"#fdca26\"], [1.0, \"#f0f921\"]], \"type\": \"heatmap\"}], \"heatmapgl\": [{\"colorbar\": {\"outlinewidth\": 0, \"ticks\": \"\"}, \"colorscale\": [[0.0, \"#0d0887\"], [0.1111111111111111, \"#46039f\"], [0.2222222222222222, \"#7201a8\"], [0.3333333333333333, \"#9c179e\"], [0.4444444444444444, \"#bd3786\"], [0.5555555555555556, \"#d8576b\"], [0.6666666666666666, \"#ed7953\"], [0.7777777777777778, \"#fb9f3a\"], [0.8888888888888888, \"#fdca26\"], [1.0, \"#f0f921\"]], \"type\": \"heatmapgl\"}], \"histogram\": [{\"marker\": {\"colorbar\": {\"outlinewidth\": 0, \"ticks\": \"\"}}, \"type\": \"histogram\"}], \"histogram2d\": [{\"colorbar\": {\"outlinewidth\": 0, \"ticks\": \"\"}, \"colorscale\": [[0.0, \"#0d0887\"], [0.1111111111111111, \"#46039f\"], [0.2222222222222222, \"#7201a8\"], [0.3333333333333333, \"#9c179e\"], [0.4444444444444444, \"#bd3786\"], [0.5555555555555556, \"#d8576b\"], [0.6666666666666666, \"#ed7953\"], [0.7777777777777778, \"#fb9f3a\"], [0.8888888888888888, \"#fdca26\"], [1.0, \"#f0f921\"]], \"type\": \"histogram2d\"}], \"histogram2dcontour\": [{\"colorbar\": {\"outlinewidth\": 0, \"ticks\": \"\"}, \"colorscale\": [[0.0, \"#0d0887\"], [0.1111111111111111, \"#46039f\"], [0.2222222222222222, \"#7201a8\"], [0.3333333333333333, \"#9c179e\"], [0.4444444444444444, \"#bd3786\"], [0.5555555555555556, \"#d8576b\"], [0.6666666666666666, \"#ed7953\"], [0.7777777777777778, \"#fb9f3a\"], [0.8888888888888888, \"#fdca26\"], [1.0, \"#f0f921\"]], \"type\": \"histogram2dcontour\"}], \"mesh3d\": [{\"colorbar\": {\"outlinewidth\": 0, \"ticks\": \"\"}, \"type\": \"mesh3d\"}], \"parcoords\": [{\"line\": {\"colorbar\": {\"outlinewidth\": 0, \"ticks\": \"\"}}, \"type\": \"parcoords\"}], \"pie\": [{\"automargin\": true, \"type\": \"pie\"}], \"scatter\": [{\"marker\": {\"colorbar\": {\"outlinewidth\": 0, \"ticks\": \"\"}}, \"type\": \"scatter\"}], \"scatter3d\": [{\"line\": {\"colorbar\": {\"outlinewidth\": 0, \"ticks\": \"\"}}, \"marker\": {\"colorbar\": {\"outlinewidth\": 0, \"ticks\": \"\"}}, \"type\": \"scatter3d\"}], \"scattercarpet\": [{\"marker\": {\"colorbar\": {\"outlinewidth\": 0, \"ticks\": \"\"}}, \"type\": \"scattercarpet\"}], \"scattergeo\": [{\"marker\": {\"colorbar\": {\"outlinewidth\": 0, \"ticks\": \"\"}}, \"type\": \"scattergeo\"}], \"scattergl\": [{\"marker\": {\"colorbar\": {\"outlinewidth\": 0, \"ticks\": \"\"}}, \"type\": \"scattergl\"}], \"scattermapbox\": [{\"marker\": {\"colorbar\": {\"outlinewidth\": 0, \"ticks\": \"\"}}, \"type\": \"scattermapbox\"}], \"scatterpolar\": [{\"marker\": {\"colorbar\": {\"outlinewidth\": 0, \"ticks\": \"\"}}, \"type\": \"scatterpolar\"}], \"scatterpolargl\": [{\"marker\": {\"colorbar\": {\"outlinewidth\": 0, \"ticks\": \"\"}}, \"type\": \"scatterpolargl\"}], \"scatterternary\": [{\"marker\": {\"colorbar\": {\"outlinewidth\": 0, \"ticks\": \"\"}}, \"type\": \"scatterternary\"}], \"surface\": [{\"colorbar\": {\"outlinewidth\": 0, \"ticks\": \"\"}, \"colorscale\": [[0.0, \"#0d0887\"], [0.1111111111111111, \"#46039f\"], [0.2222222222222222, \"#7201a8\"], [0.3333333333333333, \"#9c179e\"], [0.4444444444444444, \"#bd3786\"], [0.5555555555555556, \"#d8576b\"], [0.6666666666666666, \"#ed7953\"], [0.7777777777777778, \"#fb9f3a\"], [0.8888888888888888, \"#fdca26\"], [1.0, \"#f0f921\"]], \"type\": \"surface\"}], \"table\": [{\"cells\": {\"fill\": {\"color\": \"#EBF0F8\"}, \"line\": {\"color\": \"white\"}}, \"header\": {\"fill\": {\"color\": \"#C8D4E3\"}, \"line\": {\"color\": \"white\"}}, \"type\": \"table\"}]}, \"layout\": {\"annotationdefaults\": {\"arrowcolor\": \"#2a3f5f\", \"arrowhead\": 0, \"arrowwidth\": 1}, \"coloraxis\": {\"colorbar\": {\"outlinewidth\": 0, \"ticks\": \"\"}}, \"colorscale\": {\"diverging\": [[0, \"#8e0152\"], [0.1, \"#c51b7d\"], [0.2, \"#de77ae\"], [0.3, \"#f1b6da\"], [0.4, \"#fde0ef\"], [0.5, \"#f7f7f7\"], [0.6, \"#e6f5d0\"], [0.7, \"#b8e186\"], [0.8, \"#7fbc41\"], [0.9, \"#4d9221\"], [1, \"#276419\"]], \"sequential\": [[0.0, \"#0d0887\"], [0.1111111111111111, \"#46039f\"], [0.2222222222222222, \"#7201a8\"], [0.3333333333333333, \"#9c179e\"], [0.4444444444444444, \"#bd3786\"], [0.5555555555555556, \"#d8576b\"], [0.6666666666666666, \"#ed7953\"], [0.7777777777777778, \"#fb9f3a\"], [0.8888888888888888, \"#fdca26\"], [1.0, \"#f0f921\"]], \"sequentialminus\": [[0.0, \"#0d0887\"], [0.1111111111111111, \"#46039f\"], [0.2222222222222222, \"#7201a8\"], [0.3333333333333333, \"#9c179e\"], [0.4444444444444444, \"#bd3786\"], [0.5555555555555556, \"#d8576b\"], [0.6666666666666666, \"#ed7953\"], [0.7777777777777778, \"#fb9f3a\"], [0.8888888888888888, \"#fdca26\"], [1.0, \"#f0f921\"]]}, \"colorway\": [\"#636efa\", \"#EF553B\", \"#00cc96\", \"#ab63fa\", \"#FFA15A\", \"#19d3f3\", \"#FF6692\", \"#B6E880\", \"#FF97FF\", \"#FECB52\"], \"font\": {\"color\": \"#2a3f5f\"}, \"geo\": {\"bgcolor\": \"white\", \"lakecolor\": \"white\", \"landcolor\": \"#E5ECF6\", \"showlakes\": true, \"showland\": true, \"subunitcolor\": \"white\"}, \"hoverlabel\": {\"align\": \"left\"}, \"hovermode\": \"closest\", \"mapbox\": {\"style\": \"light\"}, \"paper_bgcolor\": \"white\", \"plot_bgcolor\": \"#E5ECF6\", \"polar\": {\"angularaxis\": {\"gridcolor\": \"white\", \"linecolor\": \"white\", \"ticks\": \"\"}, \"bgcolor\": \"#E5ECF6\", \"radialaxis\": {\"gridcolor\": \"white\", \"linecolor\": \"white\", \"ticks\": \"\"}}, \"scene\": {\"xaxis\": {\"backgroundcolor\": \"#E5ECF6\", \"gridcolor\": \"white\", \"gridwidth\": 2, \"linecolor\": \"white\", \"showbackground\": true, \"ticks\": \"\", \"zerolinecolor\": \"white\"}, \"yaxis\": {\"backgroundcolor\": \"#E5ECF6\", \"gridcolor\": \"white\", \"gridwidth\": 2, \"linecolor\": \"white\", \"showbackground\": true, \"ticks\": \"\", \"zerolinecolor\": \"white\"}, \"zaxis\": {\"backgroundcolor\": \"#E5ECF6\", \"gridcolor\": \"white\", \"gridwidth\": 2, \"linecolor\": \"white\", \"showbackground\": true, \"ticks\": \"\", \"zerolinecolor\": \"white\"}}, \"shapedefaults\": {\"line\": {\"color\": \"#2a3f5f\"}}, \"ternary\": {\"aaxis\": {\"gridcolor\": \"white\", \"linecolor\": \"white\", \"ticks\": \"\"}, \"baxis\": {\"gridcolor\": \"white\", \"linecolor\": \"white\", \"ticks\": \"\"}, \"bgcolor\": \"#E5ECF6\", \"caxis\": {\"gridcolor\": \"white\", \"linecolor\": \"white\", \"ticks\": \"\"}}, \"title\": {\"x\": 0.05}, \"xaxis\": {\"automargin\": true, \"gridcolor\": \"white\", \"linecolor\": \"white\", \"ticks\": \"\", \"title\": {\"standoff\": 15}, \"zerolinecolor\": \"white\", \"zerolinewidth\": 2}, \"yaxis\": {\"automargin\": true, \"gridcolor\": \"white\", \"linecolor\": \"white\", \"ticks\": \"\", \"title\": {\"standoff\": 15}, \"zerolinecolor\": \"white\", \"zerolinewidth\": 2}}}},                        {\"responsive\": true}                    ).then(function(){\n",
       "                            \n",
       "var gd = document.getElementById('5eb7a9b1-c606-460a-b6ed-b038b631312d');\n",
       "var x = new MutationObserver(function (mutations, observer) {{\n",
       "        var display = window.getComputedStyle(gd).display;\n",
       "        if (!display || display === 'none') {{\n",
       "            console.log([gd, 'removed!']);\n",
       "            Plotly.purge(gd);\n",
       "            observer.disconnect();\n",
       "        }}\n",
       "}});\n",
       "\n",
       "// Listen for the removal of the full notebook cells\n",
       "var notebookContainer = gd.closest('#notebook-container');\n",
       "if (notebookContainer) {{\n",
       "    x.observe(notebookContainer, {childList: true});\n",
       "}}\n",
       "\n",
       "// Listen for the clearing of the current output cell\n",
       "var outputEl = gd.closest('.output');\n",
       "if (outputEl) {{\n",
       "    x.observe(outputEl, {childList: true});\n",
       "}}\n",
       "\n",
       "                        })                };                });            </script>        </div>"
      ]
     },
     "metadata": {},
     "output_type": "display_data"
    }
   ],
   "source": [
    "fig = go.Figure()\n",
    "#fig.add_trace(go.Box(y=dfa['supplier_times'].values.tolist()))\n",
    "#fig.add_trace(go.Box(y=dfa['customer_times'].values.tolist()))\n",
    "#fig.add_trace(go.Box(y=dfa['customer_alo_to_start'].values.tolist()))\n",
    "#fig.add_trace(go.Box(y=dfo['output_times'].values.tolist()))\n",
    "fig.add_trace(go.Box(y=dfm['mediation_times'].values.tolist()))\n",
    "#fig.add_trace(go.Box(y=output_times))\n",
    "\n",
    "fig.show()"
   ]
  },
  {
   "cell_type": "code",
   "execution_count": 20,
   "metadata": {},
   "outputs": [],
   "source": [
    "#dfa.to_csv(os.path.join(os.getcwd(), \"notebooks\", \"data\", \"dfa2.csv\"))\n",
    "#dfo.to_csv(os.path.join(os.getcwd(), \"notebooks\", \"data\", \"dfo2.csv\"))\n",
    "dfm.to_csv(os.path.join(os.getcwd(), \"notebooks\", \"data\", \"dfm.csv\"))"
   ]
  },
  {
   "cell_type": "code",
   "execution_count": 22,
   "metadata": {},
   "outputs": [],
   "source": [
    "def write_to_csv(data, name, output_file_name):\n",
    "    with open(os.path.join(os.getcwd(), \"notebooks\", \"data\", output_file_name), \"w\") as f:\n",
    "        writer = csv.writer(f)\n",
    "        writer.writerow([name])\n",
    "        d = [[x] for x in data]\n",
    "        writer.writerows(d)"
   ]
  },
  {
   "cell_type": "code",
   "execution_count": 23,
   "metadata": {},
   "outputs": [],
   "source": [
    "x = dfm['mediation_times'].values.tolist()\n",
    "write_to_csv(x, 'time', 'mediation.csv')"
   ]
  },
  {
   "cell_type": "code",
   "execution_count": null,
   "metadata": {},
   "outputs": [],
   "source": []
  }
 ],
 "metadata": {
  "kernelspec": {
   "display_name": "Python 3",
   "language": "python",
   "name": "python3"
  },
  "language_info": {
   "codemirror_mode": {
    "name": "ipython",
    "version": 3
   },
   "file_extension": ".py",
   "mimetype": "text/x-python",
   "name": "python",
   "nbconvert_exporter": "python",
   "pygments_lexer": "ipython3",
   "version": "3.8.5"
  }
 },
 "nbformat": 4,
 "nbformat_minor": 4
}
